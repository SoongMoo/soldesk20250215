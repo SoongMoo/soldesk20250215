{
 "cells": [
  {
   "cell_type": "code",
   "execution_count": 1,
   "id": "8112f788-8e44-434e-9fc7-ee16fd280b5e",
   "metadata": {},
   "outputs": [],
   "source": [
    "#### 매개변수에 초깃값 미리 설정하기 \n",
    "def say_myself(name, old, man):\n",
    "    print(\"나의 이름은 %s입니다.\" % name)\n",
    "    print(\"나의 나이는 %d입니다.\" % old)\n",
    "    if man: #True\n",
    "        print(\"남자입니다.\")\n",
    "    else: #False\n",
    "        print(\"여자입니다.\")"
   ]
  },
  {
   "cell_type": "code",
   "execution_count": 3,
   "id": "a3355217-f471-4cf7-9424-9f82f2ee2ab7",
   "metadata": {},
   "outputs": [
    {
     "name": "stdout",
     "output_type": "stream",
     "text": [
      "나의 이름은 이숭무입니다.\n",
      "나의 나이는 35입니다.\n",
      "남자입니다.\n"
     ]
    }
   ],
   "source": [
    "say_myself('이숭무',35,True)"
   ]
  },
  {
   "cell_type": "code",
   "execution_count": 4,
   "id": "3efee1ee-e82b-4355-90f3-93bbeb7d0f11",
   "metadata": {},
   "outputs": [],
   "source": [
    "def say_myself(name, old, man=True):\n",
    "    print(\"나의 이름은 %s입니다.\" % name)\n",
    "    print(\"나의 나이는 %d입니다.\" % old)\n",
    "    if man: #True\n",
    "        print(\"남자입니다.\")\n",
    "    else: #False\n",
    "        print(\"여자입니다.\")"
   ]
  },
  {
   "cell_type": "code",
   "execution_count": 6,
   "id": "ca1c2d5e-6ee8-4b89-85d1-c45722896b0e",
   "metadata": {},
   "outputs": [
    {
     "name": "stdout",
     "output_type": "stream",
     "text": [
      "나의 이름은 이숭무입니다.\n",
      "나의 나이는 34입니다.\n",
      "남자입니다.\n",
      "나의 이름은 이숭무입니다.\n",
      "나의 나이는 34입니다.\n",
      "여자입니다.\n"
     ]
    }
   ],
   "source": [
    "say_myself('이숭무',34)\n",
    "say_myself('이숭무',34,False)"
   ]
  },
  {
   "cell_type": "code",
   "execution_count": 7,
   "id": "c0c3b1ab-1982-40e4-9432-1f33a1389329",
   "metadata": {},
   "outputs": [],
   "source": [
    "def say_myself(name, old=30, man=True):\n",
    "    print(\"나의 이름은 %s입니다.\" % name)\n",
    "    print(\"나의 나이는 %d입니다.\" % old)\n",
    "    if man: #True\n",
    "        print(\"남자입니다.\")\n",
    "    else: #False\n",
    "        print(\"여자입니다.\")"
   ]
  },
  {
   "cell_type": "code",
   "execution_count": 13,
   "id": "2e66b76a-6e39-47aa-8264-f3a383a16efa",
   "metadata": {},
   "outputs": [
    {
     "name": "stdout",
     "output_type": "stream",
     "text": [
      "나의 이름은 이숭무입니다.\n",
      "나의 나이는 30입니다.\n",
      "남자입니다.\n",
      "나의 이름은 이숭무입니다.\n",
      "나의 나이는 50입니다.\n",
      "남자입니다.\n",
      "나의 이름은 이숭무입니다.\n",
      "나의 나이는 50입니다.\n",
      "여자입니다.\n",
      "나의 이름은 이숭무입니다.\n",
      "나의 나이는 30입니다.\n",
      "여자입니다.\n"
     ]
    }
   ],
   "source": [
    "say_myself('이숭무')\n",
    "say_myself('이숭무', 50)\n",
    "say_myself('이숭무', 50, False)\n",
    "say_myself('이숭무' , man=False)"
   ]
  },
  {
   "cell_type": "code",
   "execution_count": 12,
   "id": "4c6570f8-d118-4a38-81fe-f42acf68a01c",
   "metadata": {},
   "outputs": [
    {
     "name": "stdout",
     "output_type": "stream",
     "text": [
      "마직막 매개변수에 값을 주지 않을 수 있기 때문에\n"
     ]
    }
   ],
   "source": [
    "'''\n",
    "def say_myself(name, old=30, man):\n",
    "    print(\"나의 이름은 %s입니다.\" % name)\n",
    "    print(\"나의 나이는 %d입니다.\" % old)\n",
    "    if man: #True\n",
    "        print(\"남자입니다.\")\n",
    "    else: #False\n",
    "        print(\"여자입니다.\")\n",
    "say_myself('이숭무', False)\n",
    "'''\n",
    "print('마지막 매개변수에 값을 주지 않을 수 있기 때문에')\n",
    "print('매개번수의 초기값은 뒤에서 부터 부여 해준다') "
   ]
  },
  {
   "cell_type": "code",
   "execution_count": 17,
   "id": "8120c22f-c9ba-4b16-b15a-facc0ed297ad",
   "metadata": {},
   "outputs": [
    {
     "name": "stdout",
     "output_type": "stream",
     "text": [
      "8\n"
     ]
    }
   ],
   "source": [
    "### lambda함수 : 함수를 마치 변수처럼 선언해서 사용하는 것\n",
    "# 일반함수\n",
    "def add(a, b):\n",
    "    return a + b\n",
    "y = add(3, 5)\n",
    "print(y)"
   ]
  },
  {
   "cell_type": "code",
   "execution_count": 19,
   "id": "517d73d5-c75b-45b8-8fb1-b99233988a44",
   "metadata": {},
   "outputs": [
    {
     "name": "stdout",
     "output_type": "stream",
     "text": [
      "8\n",
      "15\n"
     ]
    }
   ],
   "source": [
    "# 일반 함수를 람다함수로 변경\n",
    "add = lambda a, b : a + b\n",
    "print(add(3, 5))\n",
    "print(add(10, 5))"
   ]
  },
  {
   "cell_type": "code",
   "execution_count": 20,
   "id": "1bc6952c-f158-4213-b942-fc85d51e279c",
   "metadata": {},
   "outputs": [
    {
     "name": "stdout",
     "output_type": "stream",
     "text": [
      "9\n"
     ]
    }
   ],
   "source": [
    "# 일반함수\n",
    "def add(a, b):\n",
    "    print( a + b )\n",
    "add(3, 6) "
   ]
  },
  {
   "cell_type": "code",
   "execution_count": 21,
   "id": "824afb90-72dc-431c-8e1e-126eb9f008b4",
   "metadata": {},
   "outputs": [
    {
     "name": "stdout",
     "output_type": "stream",
     "text": [
      "8\n"
     ]
    }
   ],
   "source": [
    "# 람다함수\n",
    "add = lambda a, b : print( a + b )\n",
    "add(3, 5)"
   ]
  },
  {
   "cell_type": "code",
   "execution_count": null,
   "id": "b9406511-bf96-4e1d-97db-99ea416596a9",
   "metadata": {},
   "outputs": [],
   "source": [
    "# 일반함수\n",
    "def calu(opt , a, b):\n",
    "    if opt == \"add\":\n",
    "        print( a + b )\n",
    "    else:\n",
    "        print( a - b )\n",
    "calu(\"add\", 3, 4)"
   ]
  },
  {
   "cell_type": "code",
   "execution_count": 24,
   "id": "168faafb-d9c2-4c59-98c6-e485f61d90b1",
   "metadata": {},
   "outputs": [
    {
     "name": "stdout",
     "output_type": "stream",
     "text": [
      "7\n"
     ]
    }
   ],
   "source": [
    "# 람다함수\n",
    "calu = lambda  opt , a, b : print( a + b ) if opt == \"add\" else print( a - b )\n",
    "calu(\"add\", 3, 4)"
   ]
  },
  {
   "cell_type": "code",
   "execution_count": null,
   "id": "d8342557-a2b4-45d8-9204-d98393addae6",
   "metadata": {},
   "outputs": [],
   "source": [
    "# 일반함수\n",
    "def calu(opt , a, b):\n",
    "    if opt == \"add\":\n",
    "        return a + b \n",
    "    else:\n",
    "        return a - b\n",
    "calu(\"add\", 3, 4)"
   ]
  },
  {
   "cell_type": "code",
   "execution_count": 25,
   "id": "22192a4e-34bb-4d27-b2f2-7a2e27c81d7c",
   "metadata": {},
   "outputs": [
    {
     "name": "stdout",
     "output_type": "stream",
     "text": [
      "7\n"
     ]
    }
   ],
   "source": [
    "# 람다함수\n",
    "calu = lambda opt , a, b : a + b if opt == \"add\" else  a - b\n",
    "y = calu(\"add\", 3, 4)\n",
    "print(y)"
   ]
  },
  {
   "cell_type": "code",
   "execution_count": null,
   "id": "e51bbb08-2c24-4d09-b8ba-9e6f47ac0d47",
   "metadata": {},
   "outputs": [],
   "source": [
    "def calc(opt, a, b):\n",
    "    if opt == \"add\":\n",
    "        return a + b\n",
    "    elif opt == \"sub\":\n",
    "        return a - b\n",
    "    elif opt == \"mul\":\n",
    "        return a * b\n",
    "    else:\n",
    "        return a / b"
   ]
  },
  {
   "cell_type": "code",
   "execution_count": 26,
   "id": "cc06e59d-1af9-4eb4-a9e2-7d8813c7b3fe",
   "metadata": {},
   "outputs": [
    {
     "name": "stdout",
     "output_type": "stream",
     "text": [
      "200\n"
     ]
    }
   ],
   "source": [
    "calc = lambda opt, a, b :  a + b if opt == \"add\" else (\n",
    "                           a - b if opt == \"sub\" else (\n",
    "                           a * b if opt == \"mul\" else \n",
    "                           a / b  ))\n",
    "result = calc(\"mul\", 10, 20)\n",
    "print(result)"
   ]
  },
  {
   "cell_type": "code",
   "execution_count": null,
   "id": "2e4c3472-3032-40d2-967f-a10098606157",
   "metadata": {},
   "outputs": [],
   "source": [
    "def add(a, b=4):\n",
    "    return a + b"
   ]
  },
  {
   "cell_type": "code",
   "execution_count": 27,
   "id": "f67b08d5-3105-41be-8e3c-b4f30ee942a4",
   "metadata": {},
   "outputs": [
    {
     "name": "stdout",
     "output_type": "stream",
     "text": [
      "7\n"
     ]
    }
   ],
   "source": [
    "add = lambda  a, b=4 : a + b\n",
    "result = add(3)\n",
    "print(result)"
   ]
  },
  {
   "cell_type": "code",
   "execution_count": null,
   "id": "5680d3c7-7e5d-4b64-bc17-03ee6fe09bda",
   "metadata": {},
   "outputs": [],
   "source": [
    "#전역변수 : 프로그램 전체에서 사용 가능한 변수, 함수밖에 있는 변수\n",
    "#지역변수 : 함수안에 정의 되어 있는 변수 , 함수안에서만 사용가능한 변수"
   ]
  },
  {
   "cell_type": "code",
   "execution_count": 31,
   "id": "02cfbd19-d915-4d6f-9570-c78682ad0c39",
   "metadata": {},
   "outputs": [],
   "source": [
    "b = 100 # 전역변수\n",
    "def test3():\n",
    "    c1 = 200 # 지역변수\n",
    "    print(\"함수 밖에 선언된 변수 : \" +  str(b))\n",
    "    print(\"함수 안에 선언된 변수 : \" +  str(c1))"
   ]
  },
  {
   "cell_type": "code",
   "execution_count": 35,
   "id": "ea94aa72-4d91-4c07-b850-63c7cb46be0d",
   "metadata": {},
   "outputs": [
    {
     "name": "stdout",
     "output_type": "stream",
     "text": [
      "함수 밖에 선언된 변수 : 100\n",
      "함수 안에 선언된 변수 : 200\n"
     ]
    }
   ],
   "source": [
    "test3()\n",
    "#print(\"함수 안에 선언된 변수 : \" +  str(c1))\n",
    "# 함수안에 변수는 함수 밖에서 사용할 수 없다."
   ]
  },
  {
   "cell_type": "code",
   "execution_count": 36,
   "id": "76f4770f-5d4e-4815-9e88-2c96791d54ed",
   "metadata": {},
   "outputs": [],
   "source": [
    "b = 100 # 전역변수\n",
    "def test3():\n",
    "    b = 300 # 지역변수\n",
    "    c1 = 200 # 지역변수\n",
    "    print(\"함수 밖에 선언된 변수 : \" +  str(b))\n",
    "    print(\"함수 안에 선언된 변수 : \" +  str(c1))"
   ]
  },
  {
   "cell_type": "code",
   "execution_count": 38,
   "id": "89f29168-9bb8-44f1-9186-bea7e06427ba",
   "metadata": {},
   "outputs": [
    {
     "name": "stdout",
     "output_type": "stream",
     "text": [
      "함수 밖에 선언된 변수 : 300\n",
      "함수 안에 선언된 변수 : 200\n",
      "함수 밖에 선언된 변수 : 100\n"
     ]
    }
   ],
   "source": [
    "test3()\n",
    "# 함수 밖에 선언된 변수 : 300 는 지역변수가 출력 전역변수의 값이 바뀐것이 아니다.\n",
    "print(\"함수 밖에 선언된 변수 : \" +  str(b))\n",
    "# 전역변수 b\n",
    "# 함수안에서는 전역변수 보다 지역변수가 우선한다."
   ]
  },
  {
   "cell_type": "code",
   "execution_count": 41,
   "id": "9af360da-ceee-401d-ade7-766ad0002b60",
   "metadata": {},
   "outputs": [],
   "source": [
    "b = 100 # 전역변수\n",
    "def test3():\n",
    "    global b # global키워드를 주면 전역변수를 의미한다.\n",
    "    b = 300 # b를 지역변수가 아닌 전역변수로 사용\n",
    "    c1 = 200 # 지역변수\n",
    "    print(\"함수 밖에 선언된 변수 : \" +  str(b))\n",
    "    print(\"함수 안에 선언된 변수 : \" +  str(c1))"
   ]
  },
  {
   "cell_type": "code",
   "execution_count": 42,
   "id": "2eec5a85-a332-49db-b731-a5743062f906",
   "metadata": {},
   "outputs": [
    {
     "name": "stdout",
     "output_type": "stream",
     "text": [
      "함수 밖에 선언된 변수 : 100\n",
      "함수 밖에 선언된 변수 : 300\n",
      "함수 안에 선언된 변수 : 200\n",
      "함수 밖에 선언된 변수 : 300\n"
     ]
    }
   ],
   "source": [
    "print(\"함수 밖에 선언된 변수 : \" +  str(b)) # 100\n",
    "test3()\n",
    "print(\"함수 밖에 선언된 변수 : \" +  str(b)) # 300: 함수내에서 전역변수 b를 사용해서 값이 바뀜"
   ]
  },
  {
   "cell_type": "code",
   "execution_count": 44,
   "id": "b5d560bc-ba23-4297-ba20-41a84f0abf20",
   "metadata": {},
   "outputs": [],
   "source": [
    "# 파일입출력 : open()함수\n",
    "# open(file, mode='r', buffering=None, encoding=None, errors=None, newline=None, closefd=True):\n",
    "# open(\"C:/Users/soldesk/Desktop/python/test.txt\", encoding=\"utf-8\")\n",
    "# C:/Users/soldesk/Desktop/python/test.txt: 절대경로\n",
    "# \"test.txt\" : 상대경로 : 현재 파일이 있는 위치\n",
    "f = open(\"test.txt\", 'w' , encoding=\"utf-8\") # 'w':overWrite\n",
    "f.write(\"1번째 줄입니다.\\n\")\n",
    "f.write(\"2번째 줄입니다.\\n\")\n",
    "f.write(\"3번째 줄입니다.\\n\")\n",
    "f.write(\"4번째 줄입니다.\\n\")\n",
    "f.write(\"5번째 줄입니다.\\n\")\n",
    "f.write(\"6번째 줄입니다.\\n\")\n",
    "f.close()"
   ]
  },
  {
   "cell_type": "code",
   "execution_count": 46,
   "id": "e7c727f6-5efa-462d-9203-5ed6dcac540e",
   "metadata": {},
   "outputs": [],
   "source": [
    "f = open(\"test.txt\", 'w' , encoding=\"utf-8\") # 'w':overWrite\n",
    "for i in range(1, 6):\n",
    "    f.write( f\"{i}번째 줄입니다.\\n\")\n",
    "f.close()"
   ]
  },
  {
   "cell_type": "code",
   "execution_count": 47,
   "id": "9370488d-1fb6-4da9-a96a-e2859d666046",
   "metadata": {},
   "outputs": [],
   "source": [
    "f = open(\"test.txt\", 'a' , encoding=\"utf-8\") # 'a': append : 추가\n",
    "for i in range(6, 11):\n",
    "    f.write( f\"{i}번째 줄입니다.\\n\")\n",
    "f.close()"
   ]
  },
  {
   "cell_type": "code",
   "execution_count": 70,
   "id": "9a18b4d2-1093-4d01-8b99-f9ff9ebf05ab",
   "metadata": {},
   "outputs": [
    {
     "name": "stdout",
     "output_type": "stream",
     "text": [
      "1번째 줄입니다.\n",
      "\n"
     ]
    }
   ],
   "source": [
    "f = open(\"test.txt\", encoding=\"utf-8\")\n",
    "line = f.readline() # 한줄씩 가져오기\n",
    "print(line)"
   ]
  },
  {
   "cell_type": "code",
   "execution_count": 80,
   "id": "c6be8fe3-bbde-498f-b287-157b9306ebc9",
   "metadata": {},
   "outputs": [
    {
     "name": "stdout",
     "output_type": "stream",
     "text": [
      "\n"
     ]
    }
   ],
   "source": [
    "line = f.readline()\n",
    "print(line)\n",
    "line = f.readline()\n",
    "print(line)\n",
    "line = f.readline()\n",
    "print(line)\n",
    "f.close()"
   ]
  },
  {
   "cell_type": "code",
   "execution_count": 81,
   "id": "90c38c20-b421-4d30-aa83-93e3acf3ecc5",
   "metadata": {},
   "outputs": [
    {
     "name": "stdout",
     "output_type": "stream",
     "text": [
      "1번째 줄입니다.\n",
      "\n",
      "2번째 줄입니다.\n",
      "\n",
      "3번째 줄입니다.\n",
      "\n",
      "4번째 줄입니다.\n",
      "\n",
      "5번째 줄입니다.\n",
      "\n",
      "6번째 줄입니다.\n",
      "\n",
      "7번째 줄입니다.\n",
      "\n",
      "8번째 줄입니다.\n",
      "\n",
      "9번째 줄입니다.\n",
      "\n",
      "10번째 줄입니다.\n",
      "\n"
     ]
    }
   ],
   "source": [
    "f = open(\"test.txt\", encoding=\"utf-8\") # r(읽기)은 생략 가능하다.\n",
    "while True: # 무한루프를 사용한 이유는 크기를 알 수 없어서\n",
    "    line = f.readline() \n",
    "    if not line: # not False\n",
    "        break\n",
    "    print(line)\n",
    "f.close()"
   ]
  },
  {
   "cell_type": "code",
   "execution_count": 86,
   "id": "1e0fc524-d5ff-4c07-8cae-7f2395aea5aa",
   "metadata": {},
   "outputs": [
    {
     "name": "stdout",
     "output_type": "stream",
     "text": [
      "['1번째 줄입니다.\\n', '2번째 줄입니다.\\n', '3번째 줄입니다.\\n', '4번째 줄입니다.\\n', '5번째 줄입니다.\\n', '6번째 줄입니다.\\n', '7번째 줄입니다.\\n', '8번째 줄입니다.\\n', '9번째 줄입니다.\\n', '10번째 줄입니다.\\n']\n",
      "1번째 줄입니다.\n",
      "2번째 줄입니다.\n",
      "3번째 줄입니다.\n",
      "4번째 줄입니다.\n",
      "5번째 줄입니다.\n",
      "6번째 줄입니다.\n",
      "7번째 줄입니다.\n",
      "8번째 줄입니다.\n",
      "9번째 줄입니다.\n",
      "10번째 줄입니다.\n",
      "\n"
     ]
    }
   ],
   "source": [
    "f = open(\"test.txt\",\"r\", encoding=\"utf-8\")# r(읽기)은 생략 가능하다.\n",
    "lines = f.readlines() # 리스트로 반환\n",
    "f.close()\n",
    "print(lines)\n",
    "data = \"\".join(lines)\n",
    "print(data)"
   ]
  },
  {
   "cell_type": "code",
   "execution_count": 87,
   "id": "010e9b59-04f7-47e7-a64f-950a9168487d",
   "metadata": {},
   "outputs": [
    {
     "name": "stdout",
     "output_type": "stream",
     "text": [
      "1번째 줄입니다.\n",
      "2번째 줄입니다.\n",
      "3번째 줄입니다.\n",
      "4번째 줄입니다.\n",
      "5번째 줄입니다.\n",
      "6번째 줄입니다.\n",
      "7번째 줄입니다.\n",
      "8번째 줄입니다.\n",
      "9번째 줄입니다.\n",
      "10번째 줄입니다.\n",
      "\n"
     ]
    }
   ],
   "source": [
    "f = open(\"test.txt\",\"r\", encoding=\"utf-8\") # r(읽기)은 생략 가능하다.\n",
    "data = f.read() # 파일 내용 그대로 \n",
    "f.close()\n",
    "print(data)"
   ]
  },
  {
   "cell_type": "code",
   "execution_count": 88,
   "id": "dcb9ca72-59b4-47a3-9fac-232f46ea174a",
   "metadata": {},
   "outputs": [],
   "source": [
    "with open(\"test.txt\",\"w\", encoding=\"utf-8\") as f:\n",
    "    for i in range(1, 6):\n",
    "        f.write(f\"{i}번째 줄입니다.\\n\")\n",
    "# with 는 f.close()를 하지 않아도 되게 하려고."
   ]
  },
  {
   "cell_type": "code",
   "execution_count": 89,
   "id": "b0b4bc0e-3316-4030-a3fd-e9bced932d7d",
   "metadata": {},
   "outputs": [],
   "source": [
    "with open(\"test.txt\",\"a\", encoding=\"utf-8\") as f:\n",
    "    for i in range(6, 11):\n",
    "        f.write(f\"{i}번째 줄입니다.\\n\")"
   ]
  },
  {
   "cell_type": "code",
   "execution_count": 90,
   "id": "0c599272-1fe6-4375-b004-48013f880419",
   "metadata": {},
   "outputs": [
    {
     "name": "stdout",
     "output_type": "stream",
     "text": [
      "1번째 줄입니다.\n",
      "2번째 줄입니다.\n",
      "3번째 줄입니다.\n",
      "4번째 줄입니다.\n",
      "5번째 줄입니다.\n",
      "6번째 줄입니다.\n",
      "7번째 줄입니다.\n",
      "8번째 줄입니다.\n",
      "9번째 줄입니다.\n",
      "10번째 줄입니다.\n",
      "\n"
     ]
    }
   ],
   "source": [
    "with open(\"test.txt\",\"r\", encoding=\"utf-8\") as f:\n",
    "    data = f.read()\n",
    "print(data)"
   ]
  },
  {
   "cell_type": "code",
   "execution_count": 91,
   "id": "395ddda2-a530-4f3c-b5da-27c4f02235bf",
   "metadata": {},
   "outputs": [],
   "source": [
    "# class : 변수 ,함수를 하나로 묶은 것 \n",
    "class Testclass:\n",
    "    b = 1 # 멤버 변수\n",
    "    def test(self): # 메서드 : class내에 있는 함수를 지칭\n",
    "        self.b = 100\n",
    "        c1 = 300\n",
    "        print(\"함수안에서 b 실행 : \" , b)\n",
    "        print(\"함수안에서 c1 실행 : \" , c1)"
   ]
  },
  {
   "cell_type": "code",
   "execution_count": 96,
   "id": "360b2fbd-8587-4b3d-985c-b804fa4b8435",
   "metadata": {},
   "outputs": [
    {
     "name": "stdout",
     "output_type": "stream",
     "text": [
      "1\n",
      "함수안에서 b 실행 :  300\n",
      "함수안에서 c1 실행 :  300\n",
      "100\n"
     ]
    }
   ],
   "source": [
    "a1 = Testclass() # a1 객체\n",
    "y = a1.b\n",
    "print(y)\n",
    "a1.test()\n",
    "y = a1.b\n",
    "print(y)"
   ]
  },
  {
   "cell_type": "code",
   "execution_count": 97,
   "id": "3e51ac1b-36dc-4494-92c3-1a7e654b6116",
   "metadata": {},
   "outputs": [
    {
     "name": "stdout",
     "output_type": "stream",
     "text": [
      "100\n",
      "200\n"
     ]
    }
   ],
   "source": [
    "a2 = Testclass() # a2 객체\n",
    "a2.b = 200\n",
    "print(a1.b)\n",
    "print(a2.b)"
   ]
  },
  {
   "cell_type": "code",
   "execution_count": 98,
   "id": "01a4e2c2-3757-4b5e-9d9c-d1309d8f54b5",
   "metadata": {},
   "outputs": [
    {
     "name": "stdout",
     "output_type": "stream",
     "text": [
      "100\n",
      "200\n",
      "300\n"
     ]
    }
   ],
   "source": [
    "a3 = Testclass()\n",
    "a3.b = 300\n",
    "print(a1.b)\n",
    "print(a2.b)\n",
    "print(a3.b)"
   ]
  },
  {
   "cell_type": "code",
   "execution_count": 99,
   "id": "5e1a8588-1e4d-4ff1-87cd-e26763e4113a",
   "metadata": {},
   "outputs": [],
   "source": [
    "class Testclass:\n",
    "    result = 1\n",
    "    def f(self, x):\n",
    "        self.result = 3 * x + 3\n",
    "        return self.result"
   ]
  },
  {
   "cell_type": "code",
   "execution_count": 102,
   "id": "62a0cf92-ce6e-4ba8-9387-96f4cf0a2aba",
   "metadata": {},
   "outputs": [
    {
     "name": "stdout",
     "output_type": "stream",
     "text": [
      "1\n",
      "9\n"
     ]
    }
   ],
   "source": [
    "a1 = Testclass()\n",
    "print(a1.result)\n",
    "y = a1.f(2)\n",
    "print(y)"
   ]
  },
  {
   "cell_type": "code",
   "execution_count": 103,
   "id": "5096f54a-1045-48e2-ae37-aea58014f39e",
   "metadata": {},
   "outputs": [],
   "source": [
    "class Testclass: \n",
    "    # 멤버변수 생략\n",
    "    def f(self, x): \n",
    "        self.result = 3 * x + 3\n",
    "        return self.result"
   ]
  },
  {
   "cell_type": "code",
   "execution_count": 106,
   "id": "e9ef169c-a16b-47ef-962d-53172455963e",
   "metadata": {},
   "outputs": [
    {
     "name": "stdout",
     "output_type": "stream",
     "text": [
      "12\n",
      "12\n"
     ]
    }
   ],
   "source": [
    "a1 = Testclass()\n",
    "# print(a1.result) # 멤버변수 생략하였으므로 초기값이 없어서 오류 발생\n",
    "y = a1.f(3) # 멤버변수를 생략했을때에는 멤버 변수에 값을 주기 위해서는 메서드 실행\n",
    "print(y)\n",
    "print(a1.result)"
   ]
  },
  {
   "cell_type": "code",
   "execution_count": 112,
   "id": "88e24f95-27d2-4b15-8254-169cedde630b",
   "metadata": {},
   "outputs": [],
   "source": [
    "class Calculator:\n",
    "     def setData(self, first, second): # 멤버변수에 초기값을 주기위한 메서드\n",
    "         self.first = first\n",
    "         self.second = second\n",
    "     def add(self):\n",
    "         self.result = self.first + self.second\n",
    "         return self.result\n",
    "     def div(self):\n",
    "         self.result = self.first / self.second\n",
    "         return self.result"
   ]
  },
  {
   "cell_type": "code",
   "execution_count": 114,
   "id": "0173ff8e-f3b3-4323-9eda-b0980aa70e26",
   "metadata": {},
   "outputs": [
    {
     "name": "stdout",
     "output_type": "stream",
     "text": [
      "10\n",
      "20\n"
     ]
    }
   ],
   "source": [
    "calc = Calculator()\n",
    "#print(calc.first) # 멤버변수가 생략이 되어서 멤버변수에 초기값이 없어 오류 발생\n",
    "calc.setData(10, 20) # setData()라는 메서드를 이용해서 멤버변수에 초기값 주기\n",
    "print(calc.first)\n",
    "print(calc.second)"
   ]
  },
  {
   "cell_type": "code",
   "execution_count": null,
   "id": "08695c28-c25c-4adb-93ed-f2a693d991d6",
   "metadata": {},
   "outputs": [],
   "source": [
    "calc1 = Calculator()\n",
    "calc1.setData(10, 20)"
   ]
  },
  {
   "cell_type": "code",
   "execution_count": 115,
   "id": "9441cd3a-0214-43af-8a23-b525cd5ade40",
   "metadata": {},
   "outputs": [],
   "source": [
    "# 객체 생성을 할 때 멤버변수에 초기값을 갖도록\n",
    "class Calculator:\n",
    "    # 객체생성시에 자동으로 실행되는 메서드 : 생성자\n",
    "     def __init__(self, first, second): # 멤버변수에 초기값을 주기위한 메서드\n",
    "         self.first = first\n",
    "         self.second = second\n",
    "     def add(self):\n",
    "         self.result = self.first + self.second\n",
    "         return self.result\n",
    "     def div(self):\n",
    "         self.result = self.first / self.second\n",
    "         return self.result"
   ]
  },
  {
   "cell_type": "code",
   "execution_count": 116,
   "id": "80dd55a5-35f3-44c8-a288-0c49229b5a6f",
   "metadata": {},
   "outputs": [
    {
     "name": "stdout",
     "output_type": "stream",
     "text": [
      "10\n"
     ]
    }
   ],
   "source": [
    "calc2 = Calculator(10, 20) # 객체 생성\n",
    "   #    <--- 생성자------>\n",
    "print(calc2.first)"
   ]
  },
  {
   "cell_type": "code",
   "execution_count": 117,
   "id": "717500ec-5bc7-449b-8ad3-ec8ed550bb46",
   "metadata": {},
   "outputs": [],
   "source": [
    "class FourCal(Calculator): #상속\n",
    "    '''\n",
    "    def __init__(self, first, second): # 멤버변수에 초기값을 주기위한 메서드\n",
    "         self.first = first\n",
    "         self.second = second\n",
    "     def add(self):\n",
    "         self.result = self.first + self.second\n",
    "         return self.result\n",
    "     def div(self):\n",
    "         self.result = self.first / self.second\n",
    "         return self.result   \n",
    "    '''\n",
    "    def sub(self):\n",
    "        self.result = self.first - self.second\n",
    "        return self.result\n",
    "    def mul(self):\n",
    "        self.result = self.first * self.second\n",
    "        return self.result"
   ]
  },
  {
   "cell_type": "code",
   "execution_count": 120,
   "id": "6be7d956-2a0f-403e-9471-34a5701e6f4d",
   "metadata": {},
   "outputs": [
    {
     "name": "stdout",
     "output_type": "stream",
     "text": [
      "20\n",
      "50\n",
      "600\n"
     ]
    }
   ],
   "source": [
    "a4 = FourCal(20, 30)\n",
    "print(a4.first)\n",
    "y = a4.add() # 상속 받은 메서드\n",
    "print(y)\n",
    "y = a4.mul() # 클래스에 정의한 메서드\n",
    "print(y)"
   ]
  },
  {
   "cell_type": "code",
   "execution_count": 124,
   "id": "aa4561a8-bbd8-4313-86af-14fabea79439",
   "metadata": {},
   "outputs": [
    {
     "name": "stdout",
     "output_type": "stream",
     "text": [
      "0.0\n"
     ]
    }
   ],
   "source": [
    "a5 = FourCal(0, 10)  # 0 / 10 # 부정\n",
    "y = a5.div()\n",
    "print(y)"
   ]
  },
  {
   "cell_type": "code",
   "execution_count": 125,
   "id": "56edaea3-2ae2-4779-a372-e5e273153695",
   "metadata": {},
   "outputs": [
    {
     "ename": "ZeroDivisionError",
     "evalue": "division by zero",
     "output_type": "error",
     "traceback": [
      "\u001b[1;31m---------------------------------------------------------------------------\u001b[0m",
      "\u001b[1;31mZeroDivisionError\u001b[0m                         Traceback (most recent call last)",
      "Cell \u001b[1;32mIn[125], line 2\u001b[0m\n\u001b[0;32m      1\u001b[0m a5 \u001b[38;5;241m=\u001b[39m FourCal(\u001b[38;5;241m10\u001b[39m, \u001b[38;5;241m0\u001b[39m)  \u001b[38;5;66;03m# 10 / 0 # 부정\u001b[39;00m\n\u001b[1;32m----> 2\u001b[0m y \u001b[38;5;241m=\u001b[39m \u001b[43ma5\u001b[49m\u001b[38;5;241;43m.\u001b[39;49m\u001b[43mdiv\u001b[49m\u001b[43m(\u001b[49m\u001b[43m)\u001b[49m\n\u001b[0;32m      3\u001b[0m \u001b[38;5;28mprint\u001b[39m(y)\n",
      "Cell \u001b[1;32mIn[115], line 10\u001b[0m, in \u001b[0;36mCalculator.div\u001b[1;34m(self)\u001b[0m\n\u001b[0;32m      9\u001b[0m \u001b[38;5;28;01mdef\u001b[39;00m\u001b[38;5;250m \u001b[39m\u001b[38;5;21mdiv\u001b[39m(\u001b[38;5;28mself\u001b[39m):\n\u001b[1;32m---> 10\u001b[0m     \u001b[38;5;28mself\u001b[39m\u001b[38;5;241m.\u001b[39mresult \u001b[38;5;241m=\u001b[39m \u001b[38;5;28;43mself\u001b[39;49m\u001b[38;5;241;43m.\u001b[39;49m\u001b[43mfirst\u001b[49m\u001b[43m \u001b[49m\u001b[38;5;241;43m/\u001b[39;49m\u001b[43m \u001b[49m\u001b[38;5;28;43mself\u001b[39;49m\u001b[38;5;241;43m.\u001b[39;49m\u001b[43msecond\u001b[49m\n\u001b[0;32m     11\u001b[0m     \u001b[38;5;28;01mreturn\u001b[39;00m \u001b[38;5;28mself\u001b[39m\u001b[38;5;241m.\u001b[39mresult\n",
      "\u001b[1;31mZeroDivisionError\u001b[0m: division by zero"
     ]
    }
   ],
   "source": [
    "a5 = FourCal(10, 0)  # 10 / 0 # 불능\n",
    "y = a5.div()\n",
    "print(y)"
   ]
  },
  {
   "cell_type": "code",
   "execution_count": 130,
   "id": "940eb34c-c9e8-42b5-bc89-36efb93fa58f",
   "metadata": {},
   "outputs": [],
   "source": [
    "class FourCal(Calculator): #상속\n",
    "    def div(self): # 상속받은 메서드를 다시 정의 하는 것 : 재정의 : override\n",
    "         if self.second == 0:\n",
    "             return 0\n",
    "         else:\n",
    "             self.result = self.first / self.second\n",
    "             return self.result   \n",
    "    def sub(self):\n",
    "        self.result = self.first - self.second\n",
    "        return self.result\n",
    "    def mul(self):\n",
    "        self.result = self.first * self.second\n",
    "        return self.result"
   ]
  },
  {
   "cell_type": "code",
   "execution_count": 131,
   "id": "efe50e00-b296-42eb-93d7-d3ca50d61d47",
   "metadata": {},
   "outputs": [
    {
     "name": "stdout",
     "output_type": "stream",
     "text": [
      "0\n"
     ]
    }
   ],
   "source": [
    "a5 = FourCal(10, 0)  \n",
    "y = a5.div() # overriding\n",
    "print(y)"
   ]
  },
  {
   "cell_type": "code",
   "execution_count": 132,
   "id": "0d54b1c9-44c2-4046-acc0-d1d9944e26be",
   "metadata": {},
   "outputs": [
    {
     "name": "stdout",
     "output_type": "stream",
     "text": [
      "3\n"
     ]
    }
   ],
   "source": [
    "## 변수, 함수, class 을 하나로 묶어서 사용하자. : 모듈\n",
    "import random\n",
    "num = random.randint(1, 10)\n",
    "print(num)"
   ]
  },
  {
   "cell_type": "code",
   "execution_count": 137,
   "id": "f3d1ad12-50c9-4132-8f4a-aebe831e5dd9",
   "metadata": {},
   "outputs": [
    {
     "name": "stdout",
     "output_type": "stream",
     "text": [
      "10\n",
      "3.141592\n",
      "14\n"
     ]
    }
   ],
   "source": [
    "import mod1\n",
    "print(mod1.val)\n",
    "print(mod1.PI)\n",
    "print(mod1.randint(3))"
   ]
  },
  {
   "cell_type": "code",
   "execution_count": 138,
   "id": "cfb91364-4292-4492-9de2-2c0ab6d2d1b7",
   "metadata": {},
   "outputs": [
    {
     "name": "stdout",
     "output_type": "stream",
     "text": [
      "10\n"
     ]
    },
    {
     "ename": "NameError",
     "evalue": "name 'PI' is not defined",
     "output_type": "error",
     "traceback": [
      "\u001b[1;31m---------------------------------------------------------------------------\u001b[0m",
      "\u001b[1;31mNameError\u001b[0m                                 Traceback (most recent call last)",
      "Cell \u001b[1;32mIn[138], line 3\u001b[0m\n\u001b[0;32m      1\u001b[0m \u001b[38;5;28;01mfrom\u001b[39;00m\u001b[38;5;250m \u001b[39m\u001b[38;5;21;01mmod1\u001b[39;00m\u001b[38;5;250m \u001b[39m\u001b[38;5;28;01mimport\u001b[39;00m val\n\u001b[0;32m      2\u001b[0m \u001b[38;5;28mprint\u001b[39m(val)\n\u001b[1;32m----> 3\u001b[0m \u001b[38;5;28mprint\u001b[39m(\u001b[43mPI\u001b[49m)\n",
      "\u001b[1;31mNameError\u001b[0m: name 'PI' is not defined"
     ]
    }
   ],
   "source": [
    "from mod1 import val\n",
    "print(val)\n",
    "print(PI)"
   ]
  },
  {
   "cell_type": "code",
   "execution_count": 139,
   "id": "946e5b44-760c-4b58-9407-31dc489531c4",
   "metadata": {},
   "outputs": [
    {
     "name": "stdout",
     "output_type": "stream",
     "text": [
      "10\n",
      "3.141592\n"
     ]
    }
   ],
   "source": [
    "from mod1 import *\n",
    "print(val) # 앞에 모듈이름을 붙이지 않아도 된다.\n",
    "print(PI)"
   ]
  },
  {
   "cell_type": "code",
   "execution_count": null,
   "id": "9d2fea93-92e2-4c15-85d7-3f82ed443e4b",
   "metadata": {},
   "outputs": [],
   "source": [
    "# 스크래핑 : 웹 문서에 있는 코드 모두를 다 가지고 오는 것\n",
    "# 크롤링 : 스크래핑한 코드에서 원하는 내용만 추출해오는 것\n",
    "import urllib.request\n",
    "url = \"https://wikidocs.net/29\"\n",
    "memory= urllib.request.urlopen(url).read()\n",
    "text = memory.decode(\"utf-8\")\n",
    "print(text)"
   ]
  },
  {
   "cell_type": "code",
   "execution_count": null,
   "id": "bb6ba273-8dff-43e1-9cd1-3a3cc1129cf8",
   "metadata": {},
   "outputs": [],
   "source": [
    "import urllib.request\n",
    "url = \"http://www.kma.go.kr/weather/forecast/mid-term-rss3.jsp?stnId=108\"\n",
    "memory= urllib.request.urlopen(url).read()\n",
    "text = memory.decode(\"utf-8\")\n",
    "print(text)"
   ]
  }
 ],
 "metadata": {
  "kernelspec": {
   "display_name": "Python 3 (ipykernel)",
   "language": "python",
   "name": "python3"
  },
  "language_info": {
   "codemirror_mode": {
    "name": "ipython",
    "version": 3
   },
   "file_extension": ".py",
   "mimetype": "text/x-python",
   "name": "python",
   "nbconvert_exporter": "python",
   "pygments_lexer": "ipython3",
   "version": "3.13.2"
  }
 },
 "nbformat": 4,
 "nbformat_minor": 5
}
