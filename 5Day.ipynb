{
 "cells": [
  {
   "cell_type": "code",
   "execution_count": 5,
   "id": "eb8bb2c3-906e-469b-8b0c-c7483f434cfb",
   "metadata": {},
   "outputs": [
    {
     "name": "stdout",
     "output_type": "stream",
     "text": [
      "[5 7 9]\n"
     ]
    }
   ],
   "source": [
    "# 유니버설 함수(UFuncs)\n",
    "import numpy as np\n",
    "x = np.array([1, 2, 3])\n",
    "y = np.array([4, 5, 6])\n",
    "z = x + y\n",
    "print(z)\n",
    "z = np.add(x,y)\n",
    "print(z)"
   ]
  },
  {
   "cell_type": "code",
   "execution_count": 9,
   "id": "4ecef92c-c9d7-4a11-a3a0-94f9fcb75fe7",
   "metadata": {},
   "outputs": [
    {
     "name": "stdout",
     "output_type": "stream",
     "text": [
      "[0 1 2]\n",
      "[[0]\n",
      " [1]\n",
      " [2]]\n",
      "[[0 1 2]\n",
      " [1 2 3]\n",
      " [2 3 4]]\n"
     ]
    }
   ],
   "source": [
    "# 브로드케스팅 : 차원이 서로 다른 경우에 연산하기 위해서 차원 맞춰주는것\n",
    "a = np.arange(3)\n",
    "print(a)\n",
    "b = a[:, np.newaxis] # 2차원\n",
    "print(b)\n",
    "z = a + b\n",
    "'''\n",
    "행열의 연산은 차원 같아야 한다.\n",
    "[0 1 2] +  [[0]  => [0 1 2]   + [[0][0][0]\n",
    "            [1]     [0 1 2]      [1][1][1]\n",
    "            [2]]    [0 1 2]      [2][2][2]]\n",
    "'''\n",
    "print(z)"
   ]
  },
  {
   "cell_type": "code",
   "execution_count": 13,
   "id": "12fea7a0-1e62-4ba3-a73e-a6e33a08fd76",
   "metadata": {},
   "outputs": [
    {
     "name": "stdout",
     "output_type": "stream",
     "text": [
      "10\n",
      "10\n",
      "3\n",
      "3\n"
     ]
    }
   ],
   "source": [
    "l = [1,2,3,4]\n",
    "t = (1,2,3,4)\n",
    "print(sum(l))\n",
    "print(sum(t))\n",
    "print(sum(a))\n",
    "print(np.sum(a))"
   ]
  },
  {
   "cell_type": "code",
   "execution_count": 29,
   "id": "a93e0ccc-4e39-427f-9a41-da10ea2f5fc7",
   "metadata": {},
   "outputs": [
    {
     "name": "stdout",
     "output_type": "stream",
     "text": [
      "[[0.72798423 0.63855266 0.91419772 0.50312703]\n",
      " [0.84691746 0.40081014 0.92294086 0.21681898]\n",
      " [0.19458097 0.15815263 0.86690679 0.41508938]]\n",
      "6.806078848870589\n",
      "6.806078848870589\n",
      "0.9229408576358459\n",
      "0.9229408576358459\n",
      "0.15815262584822465\n",
      "0.15815262584822465\n"
     ]
    }
   ],
   "source": [
    "#집계함수 \n",
    "m = np.random.random((3,4)) # 0 <= x < 1  : 3row 4col\n",
    "print(m)\n",
    "print(np.sum(m))\n",
    "print(m.sum())\n",
    "print(np.max(m))\n",
    "print(m.max())\n",
    "print(m.min())\n",
    "print(np.min(m))"
   ]
  },
  {
   "cell_type": "code",
   "execution_count": 33,
   "id": "d8064488-8247-4810-9caf-d04790820567",
   "metadata": {},
   "outputs": [
    {
     "name": "stdout",
     "output_type": "stream",
     "text": [
      "Requirement already satisfied: pandas in c:\\users\\soldesk\\appdata\\local\\programs\\python\\python313\\lib\\site-packages (2.2.3)\n",
      "Requirement already satisfied: numpy>=1.26.0 in c:\\users\\soldesk\\appdata\\local\\programs\\python\\python313\\lib\\site-packages (from pandas) (2.2.3)\n",
      "Requirement already satisfied: python-dateutil>=2.8.2 in c:\\users\\soldesk\\appdata\\local\\programs\\python\\python313\\lib\\site-packages (from pandas) (2.9.0.post0)\n",
      "Requirement already satisfied: pytz>=2020.1 in c:\\users\\soldesk\\appdata\\local\\programs\\python\\python313\\lib\\site-packages (from pandas) (2025.1)\n",
      "Requirement already satisfied: tzdata>=2022.7 in c:\\users\\soldesk\\appdata\\local\\programs\\python\\python313\\lib\\site-packages (from pandas) (2025.1)\n",
      "Requirement already satisfied: six>=1.5 in c:\\users\\soldesk\\appdata\\local\\programs\\python\\python313\\lib\\site-packages (from python-dateutil>=2.8.2->pandas) (1.17.0)\n"
     ]
    },
    {
     "name": "stderr",
     "output_type": "stream",
     "text": [
      "\n",
      "[notice] A new release of pip is available: 24.3.1 -> 25.0.1\n",
      "[notice] To update, run: python.exe -m pip install --upgrade pip\n"
     ]
    }
   ],
   "source": [
    "# csv파일을 불러오기 위해서 pandas가 필요\n",
    "!pip install pandas \n",
    "!pip install matplotlib"
   ]
  },
  {
   "cell_type": "code",
   "execution_count": 45,
   "id": "c1c25c5e-87b9-4948-868d-040c17179625",
   "metadata": {},
   "outputs": [
    {
     "name": "stdout",
     "output_type": "stream",
     "text": [
      "163\n",
      "174.25\n",
      "182.0\n",
      "183.0\n",
      "193\n",
      "179.73809523809524\n",
      "6.931843442745892\n"
     ]
    }
   ],
   "source": [
    "import pandas as pd\n",
    "df = pd.read_csv(\"https://raw.githubusercontent.com/SoongMoo/soldesk20250215/refs/heads/main/data/president_heights.csv\")\n",
    "df\n",
    "df['height(cm)']\n",
    "heights = np.array(df['height(cm)'])\n",
    "heights\n",
    "np.sum(heights)\n",
    "heights.sum()\n",
    "# 4사분위 \n",
    "# 최소값  0사분위\n",
    "print(np.min(heights))\n",
    "# 1사분위 25%\n",
    "print(np.percentile(heights, 25))\n",
    "# 2사분위 50% : 중위값\n",
    "print(np.percentile(heights, 50))\n",
    "# 3사분위 75% : 중위값\n",
    "print(np.percentile(heights, 75))\n",
    "# 최대값  4사분위\n",
    "print(np.max(heights))\n",
    "# 평균\n",
    "print(np.mean(heights))\n",
    "# 표준편차 : 표본이 평균과 얼마나 떨어져 있는지\n",
    "print(np.std(heights))"
   ]
  },
  {
   "cell_type": "code",
   "execution_count": 47,
   "id": "802a1d74-c868-4c31-bbeb-bc4616564f78",
   "metadata": {},
   "outputs": [
    {
     "data": {
      "text/plain": [
       "Text(0, 0.5, 'number')"
      ]
     },
     "execution_count": 47,
     "metadata": {},
     "output_type": "execute_result"
    },
    {
     "data": {
      "image/png": "[encoded data removed]",
      "text/plain": [
       "<Figure size 640x480 with 1 Axes>"
      ]
     },
     "metadata": {},
     "output_type": "display_data"
    }
   ],
   "source": [
    "import matplotlib.pyplot as plt\n",
    "plt.hist(heights)\n",
    "plt.title(\"president_heights\")\n",
    "plt.xlabel(\"height(cm)\")\n",
    "plt.ylabel(\"number\")"
   ]
  },
  {
   "cell_type": "code",
   "execution_count": 59,
   "id": "a8203bf9-6b21-458f-88e7-1e24bfb959fb",
   "metadata": {},
   "outputs": [
    {
     "name": "stdout",
     "output_type": "stream",
     "text": [
      "1\n",
      "[1, 3]\n",
      "[1, 2, 3]\n",
      "[1 3 2]\n",
      "[1 2]\n",
      "[1 2]\n",
      "[5 4]\n",
      "9\n",
      "9\n",
      "[ True False False False  True]\n"
     ]
    }
   ],
   "source": [
    "# 팬시 index, 마스크\n",
    "# [1, 2, 3, 4]\n",
    "#  0  1  2  3  : index\n",
    "l = [1, 2, 3, 4]\n",
    "print(l[0]) # indexing\n",
    "print(l[0::2]) # slicing\n",
    "print(l[0:3]) \n",
    "x = np.array([1,5,3,4,2])\n",
    "z = x[[True, False, True, False, True]] # 팬시 index\n",
    "print(z)\n",
    "z  = x[[True,False,False,False,True]]\n",
    "print(z)\n",
    "z  = x[x < 3]  # [True,False,False,False,True]\n",
    "print(z)\n",
    "z = x[x > 3]\n",
    "print(z)\n",
    "result = np.sum(x[x>3]) # np.sum(m)\n",
    "print(result)\n",
    "result = x[x>3].sum()  # m.sum()\n",
    "print(result)\n",
    "print(x < 3)\n",
    "# 배열에 관계연산자를 사용하면 팬시index사용한다.\n",
    "# False index를 가진 요소는 마스크가 된다.\n",
    "# [1 2 3 4 5] => [1 2]"
   ]
  },
  {
   "cell_type": "code",
   "execution_count": 60,
   "id": "b8972b03-6682-496f-a797-18b869c3e6e8",
   "metadata": {},
   "outputs": [
    {
     "name": "stdout",
     "output_type": "stream",
     "text": [
      "[False  True False  True False]\n",
      "[False  True  True  True False]\n",
      "[ True False  True False  True]\n",
      "[ True False False False  True]\n",
      "[False False  True False False]\n",
      "[ True  True False  True  True]\n"
     ]
    }
   ],
   "source": [
    "x = np.array([1,5,3,4,2])\n",
    "print(x > 3)\n",
    "print(x >= 3)\n",
    "print(x <= 3)\n",
    "print(x < 3)\n",
    "print(x == 3)\n",
    "print(x != 3)"
   ]
  },
  {
   "cell_type": "code",
   "execution_count": 64,
   "id": "87d7c5b7-4fc0-45ac-a98c-6bdfea385deb",
   "metadata": {},
   "outputs": [
    {
     "data": {
      "text/plain": [
       "np.int64(34)"
      ]
     },
     "execution_count": 64,
     "metadata": {},
     "output_type": "execute_result"
    }
   ],
   "source": [
    "x1 = np.array([[2,3,4],\n",
    "              [4,6,7],\n",
    "              [6,7,8]])\n",
    "x1\n",
    "x1 > 5\n",
    "x1[x1 > 5]\n",
    "x1[x1 > 5].sum()"
   ]
  },
  {
   "cell_type": "code",
   "execution_count": 90,
   "id": "f58aa521-bc93-4408-961c-cc06f3e3d437",
   "metadata": {},
   "outputs": [
    {
     "name": "stdout",
     "output_type": "stream",
     "text": [
      "37\n",
      "29.79527559055118\n",
      "24\n",
      "15.413385826771652\n",
      "339\n",
      "32.12204724409449\n",
      "215\n",
      "150\n"
     ]
    }
   ],
   "source": [
    "rainfall = pd.read_csv(\"https://raw.githubusercontent.com/SoongMoo/soldesk20250215/refs/heads/main/data/Seattle2014.csv\")\n",
    "rainfall\n",
    "inches = np.array(rainfall['PRCP'] / 254)\n",
    "inches\n",
    "# 0.5인치이상 온 날은 몇일입니까?\n",
    "inches > 0.5 # False : 0, True: 1\n",
    "print(np.sum(inches > 0.5))\n",
    "# 0.5인치이상 온 날의 강수량의 합계?\n",
    "inches[inches > 0.5]\n",
    "print(np.sum(inches[inches > 0.5]))\n",
    "# 강수량이 0.5에서 0.8 사이인 날은 몇일이나 되나요?\n",
    "(inches > 0.5) & (inches < 0.8)\n",
    "print(np.sum((inches > 0.5) & (inches < 0.8)))\n",
    "# 강수량이 0.5에서 0.8 사이인 날의 강수량의 합계?\n",
    "print(np.sum(inches[(inches > 0.5) & (inches < 0.8)]))\n",
    "#강수량이 0.5보다 작고 0.8이 온날은?\n",
    "~((inches > 0.5) & (inches < 0.8))\n",
    "(inches < 0.5) | (inches > 0.8)\n",
    "print(np.sum((inches < 0.5) | (inches > 0.8))) # 팬시 index합계\n",
    "#강수량이 0.5보다 작고 0.8이 온날의 강수량의 합계?\n",
    "print(np.sum(inches[(inches < 0.5) | (inches > 0.8)])) # 데이터(실제)의 합계\n",
    "#비가 안온 날\n",
    "print(np.sum(inches == 0))\n",
    "#비가 온 날\n",
    "print(np.sum(inches != 0))"
   ]
  },
  {
   "cell_type": "code",
   "execution_count": 95,
   "id": "4e468e91-ebd0-4c8d-88d6-57f3b1a559f3",
   "metadata": {},
   "outputs": [
    {
     "data": {
      "text/plain": [
       "(array([245.,  14.,  13.,  17.,   8.,   6.,   5.,   6.,   4.,   3.,   7.,\n",
       "          6.,   3.,   3.,   3.,   4.,   4.,   2.,   4.,   0.,   0.,   1.,\n",
       "          1.,   1.,   0.,   0.,   0.,   2.,   1.,   1.,   0.,   0.,   0.,\n",
       "          0.,   0.,   0.,   0.,   0.,   0.,   1.]),\n",
       " array([0.        , 0.04596457, 0.09192913, 0.1378937 , 0.18385827,\n",
       "        0.22982283, 0.2757874 , 0.32175197, 0.36771654, 0.4136811 ,\n",
       "        0.45964567, 0.50561024, 0.5515748 , 0.59753937, 0.64350394,\n",
       "        0.6894685 , 0.73543307, 0.78139764, 0.8273622 , 0.87332677,\n",
       "        0.91929134, 0.96525591, 1.01122047, 1.05718504, 1.10314961,\n",
       "        1.14911417, 1.19507874, 1.24104331, 1.28700787, 1.33297244,\n",
       "        1.37893701, 1.42490157, 1.47086614, 1.51683071, 1.56279528,\n",
       "        1.60875984, 1.65472441, 1.70068898, 1.74665354, 1.79261811,\n",
       "        1.83858268]),\n",
       " <BarContainer object of 40 artists>)"
      ]
     },
     "execution_count": 95,
     "metadata": {},
     "output_type": "execute_result"
    },
    {
     "data": {
      "image/png": "[encoded data removed]",
      "text/plain": [
       "<Figure size 640x480 with 1 Axes>"
      ]
     },
     "metadata": {},
     "output_type": "display_data"
    }
   ],
   "source": [
    "plt.hist(inches, 40) # 40: width"
   ]
  },
  {
   "cell_type": "code",
   "execution_count": 98,
   "id": "ac5b15e6-b698-46cf-b093-3702a49202a1",
   "metadata": {},
   "outputs": [
    {
     "name": "stdout",
     "output_type": "stream",
     "text": [
      "[2 3 5 6 7]\n"
     ]
    }
   ],
   "source": [
    "# 정렬\n",
    "x = np.array([3,6,2,7,5])\n",
    "x\n",
    "x.sort()\n",
    "print(x)\n",
    "print(np.sort(x))"
   ]
  },
  {
   "cell_type": "code",
   "execution_count": 104,
   "id": "49b39036-72e6-4f2b-bdaf-98d456dcbf21",
   "metadata": {},
   "outputs": [
    {
     "name": "stdout",
     "output_type": "stream",
     "text": [
      "[[0 6 6 4 2 8]\n",
      " [8 3 4 0 4 8]\n",
      " [9 3 4 7 2 8]\n",
      " [0 4 3 6 5 5]]\n",
      "[[0 2 4 6 6 8]\n",
      " [0 3 4 4 8 8]\n",
      " [2 3 4 7 8 9]\n",
      " [0 3 4 5 5 6]]\n",
      "[[0 2 4 6 6 8]\n",
      " [0 3 4 4 8 8]\n",
      " [2 3 4 7 8 9]\n",
      " [0 3 4 5 5 6]]\n",
      "[[0 3 3 0 2 5]\n",
      " [0 3 4 4 2 8]\n",
      " [8 4 4 6 4 8]\n",
      " [9 6 6 7 5 8]]\n"
     ]
    }
   ],
   "source": [
    "x = np.random.randint(0, 10,(4, 6)) \n",
    "print(x)\n",
    "print(np.sort(x)) # y 축정렬 : axis=1 : 행 정렬\n",
    "print(np.sort(x, axis=1))\n",
    "print(np.sort(x, axis=0)) # x 축기준 : 열 정렬"
   ]
  },
  {
   "cell_type": "code",
   "execution_count": 113,
   "id": "8cb9d761-805d-48b7-ab02-3a6bd37a7504",
   "metadata": {},
   "outputs": [
    {
     "name": "stdout",
     "output_type": "stream",
     "text": [
      "[[0 6 6 4 2 8]\n",
      " [8 3 4 0 4 8]\n",
      " [9 3 4 7 2 8]\n",
      " [0 4 3 6 5 5]]\n",
      "[[0 2 4 6 6 8]\n",
      " [0 3 4 4 8 8]\n",
      " [2 3 4 7 8 9]\n",
      " [0 3 4 5 5 6]]\n",
      "[[0 2 4 6 6 8]\n",
      " [0 3 4 4 8 8]\n",
      " [2 3 4 7 8 9]\n",
      " [0 3 4 5 5 6]]\n",
      "[[0 3 3 0 2 5]\n",
      " [0 3 4 4 2 8]\n",
      " [8 4 4 6 4 8]\n",
      " [9 6 6 7 5 8]]\n"
     ]
    }
   ],
   "source": [
    "# 파티션 나누기 : 작은 값은 왼쪽 또는 위로 \n",
    "#                큰값은 오른쪽 또는 아래로 나누는 것 : \n",
    "# 분리시키고 정렬은 하지 않는다.\n",
    "print(x)\n",
    "##                   갯수\n",
    "print(np.partition(x, 4 ))\n",
    "print(np.partition(x, 4 , axis= 1)) # 행 기준 axis= 1\n",
    "print(np.partition(x, 2 , axis= 0)) # 열 기준 axis= 0"
   ]
  },
  {
   "cell_type": "code",
   "execution_count": 116,
   "id": "8f744900-bc5a-427c-b43c-c7c729e91522",
   "metadata": {},
   "outputs": [
    {
     "data": {
      "text/plain": [
       "array([[0., 0., 0.],\n",
       "       [0., 0., 0.],\n",
       "       [0., 0., 0.]])"
      ]
     },
     "execution_count": 116,
     "metadata": {},
     "output_type": "execute_result"
    }
   ],
   "source": [
    "m = np.ones((3,3)) \n",
    "m\n",
    "m = np.zeros((3,3))\n",
    "m"
   ]
  },
  {
   "cell_type": "code",
   "execution_count": null,
   "id": "a9ab4ff2-2ffd-4a48-b379-621da2bcc873",
   "metadata": {},
   "outputs": [],
   "source": []
  }
 ],
 "metadata": {
  "kernelspec": {
   "display_name": "Python 3 (ipykernel)",
   "language": "python",
   "name": "python3"
  },
  "language_info": {
   "codemirror_mode": {
    "name": "ipython",
    "version": 3
   },
   "file_extension": ".py",
   "mimetype": "text/x-python",
   "name": "python",
   "nbconvert_exporter": "python",
   "pygments_lexer": "ipython3",
   "version": "3.13.2"
  }
 },
 "nbformat": 4,
 "nbformat_minor": 5
}
