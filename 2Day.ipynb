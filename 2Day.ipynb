{
 "cells": [
  {
   "cell_type": "code",
   "execution_count": 2,
   "id": "6e2206c6-3b9f-44fd-b95f-3f16be02fa86",
   "metadata": {},
   "outputs": [
    {
     "name": "stdout",
     "output_type": "stream",
     "text": [
      "['Life', 'is', 'too', 'short']\n"
     ]
    }
   ],
   "source": [
    "str1 = \"Life is too short\"\n",
    "str2 = str1.split()\n",
    "print(str2) # ['Life', 'is', 'too', 'short'] : 리스트"
   ]
  },
  {
   "cell_type": "code",
   "execution_count": 5,
   "id": "ba98cafe-b50f-4ba5-98ee-11e0c8d06207",
   "metadata": {},
   "outputs": [
    {
     "name": "stdout",
     "output_type": "stream",
     "text": [
      "10\n",
      "[1, 2, 3, 4]\n"
     ]
    }
   ],
   "source": [
    "i = 10; # 정수리터널 변수\n",
    "f = 10.5 # 실수형 리터널 변수\n",
    "s = \"이숭무\" #문자열형 리터널 변수\n",
    "l = [1,2,3,4] # 리스트 변수\n",
    "print(i)\n",
    "print(l)"
   ]
  },
  {
   "cell_type": "code",
   "execution_count": 6,
   "id": "a4a58925-3e8f-4d27-a3a2-5ada3cb0be9d",
   "metadata": {},
   "outputs": [],
   "source": [
    "# 리스트자료형 형식\n",
    "l = [] # 빈 리스트\n",
    "l = [1,2,3,4,5] # 정수 리스트\n",
    "l = [10.5,2.5,3.8] # 실수 리스트\n",
    "l = ['a','b','c','이숭무'] #문자열 리스트\n",
    "l = [10, \"이숭무\", 10.5] #혼합형 리스트\n",
    "l = [10, \"이숭무\", 10.5, [1,2,3]] # 리스트를 포함한 혼합형 리스트\n",
    "l = [[1,2,3,4],[5,6,7]] # 리스트를 포함 리스트"
   ]
  },
  {
   "cell_type": "code",
   "execution_count": 14,
   "id": "3128ba65-ec5f-4c99-ab4a-478b7a15d050",
   "metadata": {},
   "outputs": [
    {
     "name": "stdout",
     "output_type": "stream",
     "text": [
      "e\n",
      "['Life', 'is', 'too', 'short']\n",
      "is\n",
      "is\n",
      "is\n",
      "10\n",
      "short\n",
      "r\n",
      "r\n",
      "r\n"
     ]
    }
   ],
   "source": [
    "str1 = \"Life is too short\"\n",
    "#       0123456789  :index\n",
    "#              1\n",
    "#       76543210987654321 -\n",
    "print(str1[3])\n",
    "l = str1.split()\n",
    "print(l) # ['Life', 'is', 'too', 'short']\n",
    "#              0      1      2       3  : 요소가 가지고 있는 고유의 번호 :index\n",
    "#              4      3      2       1  -\n",
    "print(l[1]) # 'is'\n",
    "print(l[-3])\n",
    "l = ['Life', 'is', 'too', 'short', 10]\n",
    "#      0       1      2      3      4\n",
    "#                          01234\n",
    "str3 = l[1]\n",
    "print(str3) # is : 문자열\n",
    "i = l[4]\n",
    "print(i) # 4 : 정수\n",
    "str3 = l[3]\n",
    "print(str3)    # short  :문자열\n",
    "#                01234\n",
    "print(str3[3]) # r\n",
    "print(l[3][3])\n",
    "\n",
    "print(l[3][3])"
   ]
  },
  {
   "cell_type": "code",
   "execution_count": 21,
   "id": "3abdf1f3-5fa9-42c7-a42a-1b72c3bc28da",
   "metadata": {},
   "outputs": [
    {
     "name": "stdout",
     "output_type": "stream",
     "text": [
      "1\n",
      "2\n",
      "3\n",
      "Life\n",
      "is\n",
      "Lifeis\n",
      "[3, 4, 5]\n",
      "LifeLife\n",
      "10\n",
      "20\n",
      "1010\n",
      "f\n"
     ]
    }
   ],
   "source": [
    "l = [1, 2, 'Life', 'is', [3,4,5], 'too', [1], 0.5, 'short', \"10\"]\n",
    "#    0  1     2      3      4       5     6    7      8       9\n",
    "print(l[0]) # 정수\n",
    "print(l[1]) # 정수\n",
    "# 정수 + 정수 : 10 + 20\n",
    "print(l[0] + l[1]) \n",
    "print(l[2]) # 문자열\n",
    "print(l[3]) # 문자열\n",
    "# 문자열 + 문자열 : 연결 연산자\n",
    "print(l[2] + l[3]) \n",
    "print(l[4]) # 리스트\n",
    "# 문자열 * 정수 : 반복연산자\n",
    "print(l[2] * l[1])\n",
    "print(l[9]) # \"10\" : 문자열\n",
    "#print(l[9] + 10)\n",
    "print(int(l[9]) + 10)\n",
    "print(l[9] + str(10))\n",
    "# l[2] 에 있는 f를 출력\n",
    "print(l[2][2]) # l[2] :\"Life\" => l[2][2] : f"
   ]
  },
  {
   "cell_type": "code",
   "execution_count": 26,
   "id": "c007d8c5-5130-40b7-8b50-57e09c65953b",
   "metadata": {},
   "outputs": [
    {
     "name": "stdout",
     "output_type": "stream",
     "text": [
      "['a', 'b', 'c']\n",
      "b\n",
      "['a', 'b', 'c']\n",
      "b\n"
     ]
    }
   ],
   "source": [
    "a = [1, 2, 3, ['a', 'b', 'c']]\n",
    "#    0  1  2         3\n",
    "#              0     1    2\n",
    "#  - 4  3  2         1  \n",
    "#            - 3     2    1\n",
    "print(a[3])\n",
    "print(a[3][1])\n",
    "print(a[-1])\n",
    "print(a[-1][-2])\n",
    "print(a[3][-2])\n",
    "print(a[-1][1])"
   ]
  }
 ],
 "metadata": {
  "kernelspec": {
   "display_name": "Python 3 (ipykernel)",
   "language": "python",
   "name": "python3"
  },
  "language_info": {
   "codemirror_mode": {
    "name": "ipython",
    "version": 3
   },
   "file_extension": ".py",
   "mimetype": "text/x-python",
   "name": "python",
   "nbconvert_exporter": "python",
   "pygments_lexer": "ipython3",
   "version": "3.13.2"
  }
 },
 "nbformat": 4,
 "nbformat_minor": 5
}
