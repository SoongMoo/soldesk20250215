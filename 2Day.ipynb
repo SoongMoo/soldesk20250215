{
 "cells": [
  {
   "cell_type": "code",
   "execution_count": 2,
   "id": "6e2206c6-3b9f-44fd-b95f-3f16be02fa86",
   "metadata": {},
   "outputs": [
    {
     "name": "stdout",
     "output_type": "stream",
     "text": [
      "['Life', 'is', 'too', 'short']\n"
     ]
    }
   ],
   "source": [
    "str1 = \"Life is too short\"\n",
    "str2 = str1.split()\n",
    "print(str2) # ['Life', 'is', 'too', 'short'] : 리스트"
   ]
  },
  {
   "cell_type": "code",
   "execution_count": 5,
   "id": "ba98cafe-b50f-4ba5-98ee-11e0c8d06207",
   "metadata": {},
   "outputs": [
    {
     "name": "stdout",
     "output_type": "stream",
     "text": [
      "10\n",
      "[1, 2, 3, 4]\n"
     ]
    }
   ],
   "source": [
    "i = 10; # 정수리터널 변수\n",
    "f = 10.5 # 실수형 리터널 변수\n",
    "s = \"이숭무\" #문자열형 리터널 변수\n",
    "l = [1,2,3,4] # 리스트 변수\n",
    "print(i)\n",
    "print(l)"
   ]
  },
  {
   "cell_type": "code",
   "execution_count": 6,
   "id": "a4a58925-3e8f-4d27-a3a2-5ada3cb0be9d",
   "metadata": {},
   "outputs": [],
   "source": [
    "# 리스트자료형 형식\n",
    "l = [] # 빈 리스트\n",
    "l = [1,2,3,4,5] # 정수 리스트\n",
    "l = [10.5,2.5,3.8] # 실수 리스트\n",
    "l = ['a','b','c','이숭무'] #문자열 리스트\n",
    "l = [10, \"이숭무\", 10.5] #혼합형 리스트\n",
    "l = [10, \"이숭무\", 10.5, [1,2,3]] # 리스트를 포함한 혼합형 리스트\n",
    "l = [[1,2,3,4],[5,6,7]] # 리스트를 포함 리스트"
   ]
  },
  {
   "cell_type": "code",
   "execution_count": 14,
   "id": "3128ba65-ec5f-4c99-ab4a-478b7a15d050",
   "metadata": {},
   "outputs": [
    {
     "name": "stdout",
     "output_type": "stream",
     "text": [
      "e\n",
      "['Life', 'is', 'too', 'short']\n",
      "is\n",
      "is\n",
      "is\n",
      "10\n",
      "short\n",
      "r\n",
      "r\n",
      "r\n"
     ]
    }
   ],
   "source": [
    "str1 = \"Life is too short\"\n",
    "#       0123456789  :index\n",
    "#              1\n",
    "#       76543210987654321 -\n",
    "print(str1[3])\n",
    "l = str1.split()\n",
    "print(l) # ['Life', 'is', 'too', 'short']\n",
    "#              0      1      2       3  : 요소가 가지고 있는 고유의 번호 :index\n",
    "#              4      3      2       1  -\n",
    "print(l[1]) # 'is'\n",
    "print(l[-3])\n",
    "l = ['Life', 'is', 'too', 'short', 10]\n",
    "#      0       1      2      3      4\n",
    "#                          01234\n",
    "str3 = l[1]\n",
    "print(str3) # is : 문자열\n",
    "i = l[4]\n",
    "print(i) # 4 : 정수\n",
    "str3 = l[3]\n",
    "print(str3)    # short  :문자열\n",
    "#                01234\n",
    "print(str3[3]) # r\n",
    "print(l[3][3])\n",
    "\n",
    "print(l[3][3])"
   ]
  },
  {
   "cell_type": "code",
   "execution_count": 21,
   "id": "3abdf1f3-5fa9-42c7-a42a-1b72c3bc28da",
   "metadata": {},
   "outputs": [
    {
     "name": "stdout",
     "output_type": "stream",
     "text": [
      "1\n",
      "2\n",
      "3\n",
      "Life\n",
      "is\n",
      "Lifeis\n",
      "[3, 4, 5]\n",
      "LifeLife\n",
      "10\n",
      "20\n",
      "1010\n",
      "f\n"
     ]
    }
   ],
   "source": [
    "l = [1, 2, 'Life', 'is', [3,4,5], 'too', [1], 0.5, 'short', \"10\"]\n",
    "#    0  1     2      3      4       5     6    7      8       9\n",
    "print(l[0]) # 정수\n",
    "print(l[1]) # 정수\n",
    "# 정수 + 정수 : 10 + 20\n",
    "print(l[0] + l[1]) \n",
    "print(l[2]) # 문자열\n",
    "print(l[3]) # 문자열\n",
    "# 문자열 + 문자열 : 연결 연산자\n",
    "print(l[2] + l[3]) \n",
    "print(l[4]) # 리스트\n",
    "# 문자열 * 정수 : 반복연산자\n",
    "print(l[2] * l[1])\n",
    "print(l[9]) # \"10\" : 문자열\n",
    "#print(l[9] + 10)\n",
    "print(int(l[9]) + 10)\n",
    "print(l[9] + str(10))\n",
    "# l[2] 에 있는 f를 출력\n",
    "print(l[2][2]) # l[2] :\"Life\" => l[2][2] : f"
   ]
  },
  {
   "cell_type": "code",
   "execution_count": 27,
   "id": "c007d8c5-5130-40b7-8b50-57e09c65953b",
   "metadata": {},
   "outputs": [
    {
     "name": "stdout",
     "output_type": "stream",
     "text": [
      "['a', 'b', 'c']\n",
      "b\n",
      "['a', 'b', 'c']\n",
      "b\n",
      "b\n",
      "b\n"
     ]
    }
   ],
   "source": [
    "a = [1, 2, 3, ['a', 'b', 'c']]\n",
    "#    0  1  2         3\n",
    "#              0     1    2\n",
    "#  - 4  3  2         1  \n",
    "#            - 3     2    1\n",
    "print(a[3])\n",
    "print(a[3][1])\n",
    "print(a[-1])\n",
    "print(a[-1][-2])\n",
    "print(a[3][-2])\n",
    "print(a[-1][1])"
   ]
  },
  {
   "cell_type": "code",
   "execution_count": 31,
   "id": "9ad8dc0f-79c5-41b0-b540-cd74deefa4c7",
   "metadata": {},
   "outputs": [
    {
     "name": "stdout",
     "output_type": "stream",
     "text": [
      "['a', 'b', ['life', 'is']]\n",
      "['life', 'is']\n",
      "life\n",
      "f\n",
      "i\n"
     ]
    }
   ],
   "source": [
    "a = [1, 2, 3, ['a', 'b', ['life', 'is']]]\n",
    "#    0  1  2             3\n",
    "#               0    1          2\n",
    "#                            0      1\n",
    "print(a[3]) # ['a', 'b', ['life', 'is']]\n",
    "#               0    1         2\n",
    "print(a[3][2]) # ['life', 'is']\n",
    "#                   0      1\n",
    "print(a[3][2][0]) # 'life'\n",
    "#                    0123\n",
    "print(a[3][2][0][2])\n",
    "print(a[3][2][0][1])\n",
    "# 리스트 indexing"
   ]
  },
  {
   "cell_type": "code",
   "execution_count": 46,
   "id": "50d0c612-8f62-458a-80dd-40d68995f86d",
   "metadata": {},
   "outputs": [
    {
     "name": "stdout",
     "output_type": "stream",
     "text": [
      "Life\n",
      "Life\n",
      "[1, 2, 'Life', 'is']\n",
      "[1, 2, 'Life', 'is']\n",
      "[1, 2]\n",
      "[1]\n",
      "1\n",
      "[]\n",
      "[3, 4, 5]\n",
      "[3, 4]\n",
      "Life\n",
      "['Life']\n",
      "[]\n",
      "[]\n"
     ]
    }
   ],
   "source": [
    "# slicing\n",
    "str1 = \"Life is too short\"\n",
    "#       01234...\n",
    "print(str1[0:4]) \n",
    "print(str1[0:0+4])\n",
    "l = [1, 2, 'Life', 'is', [3, 4, 5], 'too', [1], 0.5, 'short', '10']\n",
    "#    0  1    2       3...\n",
    "print(l[0:4])\n",
    "print(l[0: 0 + 4])\n",
    "print(l[0: 0+ 2])\n",
    "print(l[0:1])  # [1]: 리스트 slicing의 결과는 리스트가 된다.\n",
    "print(l[0]) # 1 : 리스트 indexing의 결과 요소의 자료형\n",
    "print(l[0:0]) # [] : 빈 리스트\n",
    "print(l[4]) # [3, 4, 5] \n",
    "#              0  1  2\n",
    "print(l[4][0:2])\n",
    "#################################################\n",
    "print(l[2]) # Life\n",
    "print(l[2: 2 + 1]) #['Life']\n",
    "print(l[2: 2 + 0])  # [] 빈리스트\n",
    "print(l[3:3])"
   ]
  },
  {
   "cell_type": "code",
   "execution_count": 66,
   "id": "5448ca2d-8521-48b1-9e38-1bdbc9698a14",
   "metadata": {},
   "outputs": [
    {
     "name": "stdout",
     "output_type": "stream",
     "text": [
      "[1, 2, 3, 4, 5, 6, 7, 8]\n",
      "[1, 2, 3, 4, 1, 2, 3, 4, 1, 2, 3, 4]\n",
      "[1, 2, 'Life', 'is', [3, 4, 5], 'too', [1], 0.5, 'short', '10']\n",
      "[3, 4, 5, 1]\n",
      "[3, 4, 5, 3, 4, 5]\n",
      "['Life', 'i', 's']\n",
      "Lifeis\n",
      "hello\n",
      "['h', 'e', 'l', 'l', 'o']\n",
      "[1, 3, 4, 5]\n",
      "[3, 4, 5, 3, 4, 5]\n",
      "[1, 3, 4, 5]\n",
      "[1, 2, 3, 4]\n",
      "[1, 2, 3, 4]\n",
      "[1]\n",
      "[1]\n"
     ]
    }
   ],
   "source": [
    "# 리스트 연산자  : +(연결연산자), *(반복연산자)\n",
    "l1 = [1,2,3,4]\n",
    "l2 = [5,6,7,8]\n",
    "print(l1 + l2)\n",
    "print(l1 * 3 )\n",
    "print(l)\n",
    "print(l[4] + l[6]) # +:연결연산자\n",
    "print(l[4] * l[1]) # 리스트 * 정수\n",
    "#print(l[2:2 + 1] + l[3] ) # 리스트 + 문자열(l[3] : \"is\")\n",
    "print(l[2:2 + 1] + list(l[3])) # list(l[3]) : [\"i\",\"s\"] # 리스트 + 리스트\n",
    "print(l[2] + l[3]) # 문자열 + 문자열\n",
    "print(\"hello\")\n",
    "print(list(\"hello\")) # ['h', 'e', 'l', 'l', 'o']\n",
    "# print(list(l[0]) + l[4]) # list(정수) + 리스트\n",
    "# list()리스트로 변환하는 변환 함수 : 정수를 리스트로 변환 할 수 없음.\n",
    "print(l[0:1] + l[4])\n",
    "print(l[4] * l[1]) # 리스트 * 정수\n",
    "print([l[0]] + l[4])\n",
    "l4 = [1,2,3,4]\n",
    "print(l4)\n",
    "print([1,2,3,4])\n",
    "print([1])\n",
    "print([l[0]])"
   ]
  },
  {
   "cell_type": "code",
   "execution_count": 79,
   "id": "0e841286-4268-45c0-a698-deab1a940795",
   "metadata": {},
   "outputs": [
    {
     "name": "stdout",
     "output_type": "stream",
     "text": [
      "Lf stosot\n",
      "['Life', 'too']\n",
      "trohs oot si efiL\n",
      "['short', 'too', 'is', 'Life']\n",
      "Life is too short\n",
      "['Life', 'is', 'too', 'short']\n",
      "Lif\n",
      "Lif\n",
      "['Life', 'is', 'too']\n",
      "['Life', 'is', 'too']\n",
      "ife is too short\n",
      "ife is too short\n",
      "ife is too short\n",
      "['too', 'short']\n",
      "['too', 'short']\n",
      "['too', 'short']\n"
     ]
    }
   ],
   "source": [
    "str1 = \"Life is too short\"\n",
    "result = ['Life', 'is', 'too', 'short']\n",
    "print(str1[::2])\n",
    "print(result[::2])\n",
    "print(str1[::-1])\n",
    "print(result[::-1])\n",
    "print(str1[:])\n",
    "print(result[:])\n",
    "print(str1[0:3])\n",
    "print(str1[:3])\n",
    "print(result[0:3])\n",
    "print(result[:3])\n",
    "print(str1[1:17])\n",
    "print(str1[1:])\n",
    "print(str1[1:len(str1)])\n",
    "print(result[2 : 2 + 2]) # ['Life', 'is', 'too', 'short'] : start :2 , end : 4\n",
    "                         #     0      1      2      3 \n",
    "print(result[2:])\n",
    "print(result[2:len(result)])"
   ]
  },
  {
   "cell_type": "code",
   "execution_count": 87,
   "id": "969b0d0b-2318-4259-b808-25d1cc3904d3",
   "metadata": {},
   "outputs": [
    {
     "name": "stdout",
     "output_type": "stream",
     "text": [
      "Life is too short\n",
      "['Life', 'is', 'too', 'short']\n",
      "17\n",
      "4\n"
     ]
    }
   ],
   "source": [
    "str1 = \"Lyfe is too short\"\n",
    "# Life  :  \"Your leg\"\n",
    "str2 = str1.replace(\"Lyfe\",  \"Life\")\n",
    "# str1[1] = 'i'\n",
    "print(str2)\n",
    "result = ['Lyfe', 'is', 'too', 'short']\n",
    "result[0] = 'Life' #  요소변경\n",
    "print(result)\n",
    "print(len(str1))\n",
    "print(len(result))"
   ]
  },
  {
   "cell_type": "code",
   "execution_count": 103,
   "id": "8519786c-adf4-4b77-820a-45d29350271d",
   "metadata": {},
   "outputs": [
    {
     "name": "stdout",
     "output_type": "stream",
     "text": [
      "['Life', 'is', 'too']\n",
      "['Life', 'is']\n",
      "['Life', 'is', 'too']\n",
      "['Life', 'is', 'too']\n",
      "None\n",
      "['Life', 'is', 'too', 'short']\n",
      "['Life', 'short']\n",
      "['Life', 'is', 'short']\n",
      "['Life', 'is', 'too', 'short']\n",
      "['Life', 'is', 'too', 'short', [1, 2, 3]]\n",
      "[1, 2, 3, 4, 5, 6, 7]\n"
     ]
    }
   ],
   "source": [
    "# 리스트 함수\n",
    "# 리스트에 요소 추가 \n",
    "#append()\n",
    "l1 = ['Life', 'is']\n",
    "# l1 에 'too' 추가\n",
    "print(l1 + ['too'])\n",
    "print(l1)\n",
    "l2 = l1 + ['too']\n",
    "print(l2)\n",
    "l1.append('too') \n",
    "print(l1)\n",
    "print(l1.append('short')) # 마지막 요소 추가\n",
    "print(l1)\n",
    "l1 = ['Life', 'short']\n",
    "#       0        1\n",
    "print(l1)\n",
    "# 중간에 삽입 : insert\n",
    "# 'is'\n",
    "l1.insert(1, 'is')\n",
    "print(l1) # ['Life', 'is', 'short']\n",
    "l1.insert(2, 'too')\n",
    "print(l1)\n",
    "# 확장 : extend\n",
    "l1.append([1,2,3])\n",
    "print(l1)\n",
    "a = [1,2,3,4]\n",
    "b = [5,6,7]\n",
    "#[1,2,3,4,5,6,7]\n",
    "a.extend(b)\n",
    "print(a)\n",
    "#  추가 :  append, insert , extend"
   ]
  },
  {
   "cell_type": "code",
   "execution_count": 116,
   "id": "de2655b2-1b26-4fac-a9bb-253e08561ff2",
   "metadata": {},
   "outputs": [
    {
     "name": "stdout",
     "output_type": "stream",
     "text": [
      "['Life', 'too', 'short']\n",
      "['Life', 'too']\n",
      "['Life', 'too', 'short']\n",
      "['Life', 'short']\n",
      "[]\n",
      "None\n",
      "['Life', 'too', 'short']\n",
      "short\n",
      "['Life', 'too']\n",
      "is\n",
      "Life\n"
     ]
    }
   ],
   "source": [
    "#요소 삭제\n",
    "l2 = ['Life', 'is', 'too', 'short']\n",
    "#        0     1      2       3\n",
    "# index를 이용해서 요소 삭제 : del\n",
    "del l2[1]\n",
    "print(l2) # ['Life', 'too', 'short']\n",
    "#              0       1      2\n",
    "del l2[2]\n",
    "print(l2) # ['Life', 'too']\n",
    "# 요소를 이용해서 삭제 : remove\n",
    "l2 = ['Life', 'is', 'too', 'short']\n",
    "l2.remove('is')\n",
    "print(l2)\n",
    "l2.remove('too')\n",
    "print(l2)\n",
    "# 전체 삭제 : clear\n",
    "l2.clear()\n",
    "print(l2)\n",
    "### 삭제한 값을 받아오기 : pop\n",
    "l2 = ['Life', 'is', 'too', 'short']\n",
    "result = l2.remove('is') \n",
    "print(result)# None\n",
    "print(l2) # ['Life', 'too', 'short']\n",
    "#              0       1        2\n",
    "result = l2.pop() # 마지막 요소를 지우고 지운값을 반환\n",
    "print(result)\n",
    "print(l2)\n",
    "l2 = ['Life', 'is', 'too', 'short']\n",
    "#        0      1      2      3\n",
    "result = l2.pop(1)\n",
    "print(result)\n",
    "result = l2.pop(0)\n",
    "print(result)"
   ]
  },
  {
   "cell_type": "code",
   "execution_count": 198,
   "id": "84fc0c57-717e-46b3-86be-c0d3cea4925f",
   "metadata": {},
   "outputs": [
    {
     "name": "stdout",
     "output_type": "stream",
     "text": [
      "1\n",
      "is\n",
      "['Life', 'too', 'short']\n",
      "9\n"
     ]
    }
   ],
   "source": [
    "import random # 난수값 : 0 ~ 3\n",
    "l2 = ['Life', 'is', 'too', 'short']\n",
    "idx = random.randint(0, len(l2) - 1) \n",
    "# idx = random.randint(0, 3) # 0, 1 , 2, 3 \n",
    "print(idx)\n",
    "result = l2.pop(idx)\n",
    "print(result)\n",
    "print(l2)\n",
    "idx = random.randint(1, 45)\n",
    "print(idx)"
   ]
  },
  {
   "cell_type": "code",
   "execution_count": 205,
   "id": "fb570720-2d5a-4bd4-8817-f0249e1e9a84",
   "metadata": {},
   "outputs": [
    {
     "name": "stdout",
     "output_type": "stream",
     "text": [
      "[1, 2, 3, 4, 5]\n",
      "[5, 4, 3, 2, 1]\n",
      "['a', 'b', 'c']\n",
      "['c', 'b', 'a']\n",
      "['가', '나', '다']\n",
      "['a', 'b', 'c', '가', '나', '다']\n",
      "\n"
     ]
    }
   ],
   "source": [
    "# 정렬 -- 오름차순, 내림차순\n",
    "l = [4,2,5,1,3]\n",
    "# 오름차순\n",
    "l.sort() #[1, 2, 3, 4, 5]\n",
    "print(l)\n",
    "#내림차순\n",
    "l = [4,2,5,1,3]\n",
    "l.sort(reverse=True)\n",
    "print(l)\n",
    "l = ['b','a','c']\n",
    "l.sort()\n",
    "print(l)\n",
    "l.sort(reverse=True)\n",
    "print(l)\n",
    "l = ['다','가','나']\n",
    "l.sort()\n",
    "print(l)\n",
    "l = ['b','a','c', '다','가','나']\n",
    "l.sort()\n",
    "print(l)\n",
    "'''\n",
    "l = ['b','a','c', '다','가','나',3,1,2] #문자열 , 숫자\n",
    "l.sort()\n",
    "print(l)\n",
    "'''\n",
    "print()"
   ]
  },
  {
   "cell_type": "code",
   "execution_count": 210,
   "id": "fd7b9c35-97d2-4d57-96ec-2265b05a5d5a",
   "metadata": {},
   "outputs": [
    {
     "name": "stdout",
     "output_type": "stream",
     "text": [
      "8\n",
      "8\n",
      "2\n"
     ]
    }
   ],
   "source": [
    "str1 = \"Life is too short\"\n",
    "idx = str1.find(\"too\") #'too'의 첫번째 글자인 t의 index를 찾는다.\n",
    "print(idx)\n",
    "idx = str1.index(\"too\") \n",
    "print(idx)\n",
    "l1 = ['Life', 'is', 'too', 'short']\n",
    "idx = l1.index('too') # 요소의 위치\n",
    "print(idx)\n",
    "# idx = l1.find('too') # find는 리스트에서 사용할 수 없다.\n",
    "# print(idx)\n",
    "\n",
    "## indexing, slicing\n",
    "## 리스트 추가함수 : append, insert, extend\n",
    "## 리트스 삭제함수 : del, remove, pop , clear\n",
    "## 리스트 정렬 : sort()\n",
    "## 리스트의 검색 : index"
   ]
  },
  {
   "cell_type": "code",
   "execution_count": 221,
   "id": "3bb2f002-374f-4881-b335-f6778d1c599f",
   "metadata": {},
   "outputs": [
    {
     "name": "stdout",
     "output_type": "stream",
     "text": [
      "[1, 2, 3, 4]\n",
      "(1, 2, 3, 4)\n",
      "()\n",
      "32\n",
      "2\n",
      "(2,)\n",
      "(1, 2)\n",
      "1 2 3 4 5 6\n",
      "(5,)\n"
     ]
    }
   ],
   "source": [
    "# 리터널 : 자연수 : 정수 리터널 : 10\n",
    "#                  실수 리터널 : 10.5\n",
    "#         자연어 리터널 : \" \",' ',\"\"\" \"\"\",''' '''\n",
    "# 리스트 : []\n",
    "# 튜플 : ()\n",
    "l = [1,2,3,4]\n",
    "print(l)\n",
    "t = (1,2,3,4)\n",
    "print(t)\n",
    "l = [] # 빈리스트\n",
    "t = () # 빈튜플\n",
    "print(t)\n",
    "print( (3 + 5) * 4) # ():최우선연산자\n",
    "print((2)) # ():최우선연산자\n",
    "print((2,)) # 튜플\n",
    "print((1,2)) # (1, 2) \n",
    "print(1,2,3,4,5,6) # 집합 : set\n",
    "print((3 + 2,)) # (5,)\n",
    "t = (3 + 2,)\n",
    "print(t)"
   ]
  },
  {
   "cell_type": "code",
   "execution_count": 236,
   "id": "fc8854eb-6d0d-4898-a5e0-845a1f99e0e7",
   "metadata": {},
   "outputs": [
    {
     "name": "stdout",
     "output_type": "stream",
     "text": [
      "(1, 2, 3, 4, 5, 6)\n",
      "too\n",
      "too\n",
      "['too', 'short']\n",
      "('too', 'short')\n",
      "['Your leg', 'is', 'too', 'short']\n",
      "('Life', 'is', 'too', 'short')\n",
      "2\n",
      "4\n"
     ]
    }
   ],
   "source": [
    "t = () # 빈 튜플\n",
    "t = (1,2,3,4,5)# 정수 튜플\n",
    "t = (10.5,2.5,3.8) # 실수 튜플\n",
    "t = ('a','b','c','이숭무') #문자열 튜플\n",
    "t = (10, \"이숭무\", 10.5) #혼합형 튜플\n",
    "t = (10, \"이숭무\", 10.5, [1,2,3]) # 리스트를 포함한 혼합형 튜플\n",
    "t = (10, \"이숭무\", 10.5, (1,2,3)) # 튜플을 포함한 혼합형 튜플\n",
    "t = ([1,2,3,4],[5,6,7]) # 리스트를 포함 튜플\n",
    "t = ([1,2,3,4],(5,6,7)) #튜플과 리스트를 포함한 튜플\n",
    "t = 1,2,3,4,5,6 # 소괄호 없이 초기화된 변수는 튜플이다.\n",
    "print(t)\n",
    "# 튜플은 리스트와 같다\n",
    "l1 = ['Life', 'is', 'too', 'short']\n",
    "#       0       1      2      3\n",
    "print(l1[2])\n",
    "t1 = ('Life', 'is', 'too', 'short')\n",
    "print(t1[2])\n",
    "print(l1[2:2+2])\n",
    "print(t1[2:2+2])\n",
    "l1[0] = 'Your leg'\n",
    "print(l1)\n",
    "print(t1)\n",
    "#t1[0] = \"Your leg\"\n",
    "#print(t1[0])\n",
    "# 리스트는 요소의 값을 변경할 수 있지만 튜플은 요소값을 변경할 수 없다\n",
    "# 추가, 삭제 도 안된다.  튜플은 파이썬의 상수\n",
    "result = t1.index('too')\n",
    "print(result)\n",
    "print(len(t1))\n",
    "print(t1[0])\n",
    "#del t1[0]\n",
    "# indexing, slicing , index(), len(), count()"
   ]
  },
  {
   "cell_type": "code",
   "execution_count": null,
   "id": "a2ac6ed2-4f89-40ce-b0d0-af9b461fbfd6",
   "metadata": {},
   "outputs": [],
   "source": []
  }
 ],
 "metadata": {
  "kernelspec": {
   "display_name": "Python 3 (ipykernel)",
   "language": "python",
   "name": "python3"
  },
  "language_info": {
   "codemirror_mode": {
    "name": "ipython",
    "version": 3
   },
   "file_extension": ".py",
   "mimetype": "text/x-python",
   "name": "python",
   "nbconvert_exporter": "python",
   "pygments_lexer": "ipython3",
   "version": "3.13.2"
  }
 },
 "nbformat": 4,
 "nbformat_minor": 5
}
